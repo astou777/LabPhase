{
  "nbformat": 4,
  "nbformat_minor": 0,
  "metadata": {
    "colab": {
      "provenance": [],
      "authorship_tag": "ABX9TyOTHUvSgfk7Ntg1iUK8fv9r",
      "include_colab_link": true
    },
    "kernelspec": {
      "name": "python3",
      "display_name": "Python 3"
    },
    "language_info": {
      "name": "python"
    }
  },
  "cells": [
    {
      "cell_type": "markdown",
      "metadata": {
        "id": "view-in-github",
        "colab_type": "text"
      },
      "source": [
        "<a href=\"https://colab.research.google.com/github/astou777/LabPhase/blob/main/LabPhase.ipynb\" target=\"_parent\"><img src=\"https://colab.research.google.com/assets/colab-badge.svg\" alt=\"Open In Colab\"/></a>"
      ]
    },
    {
      "cell_type": "code",
      "source": [
        "pip install tk"
      ],
      "metadata": {
        "colab": {
          "base_uri": "https://localhost:8080/"
        },
        "id": "xuSEO3b1wFcK",
        "outputId": "62659ef6-255f-489d-e695-8114e011c239"
      },
      "execution_count": 3,
      "outputs": [
        {
          "output_type": "stream",
          "name": "stdout",
          "text": [
            "Collecting tk\n",
            "  Downloading tk-0.1.0-py3-none-any.whl.metadata (693 bytes)\n",
            "Downloading tk-0.1.0-py3-none-any.whl (3.9 kB)\n",
            "Installing collected packages: tk\n",
            "Successfully installed tk-0.1.0\n"
          ]
        }
      ]
    },
    {
      "cell_type": "code",
      "source": [
        "pip install PySimpleGUI"
      ],
      "metadata": {
        "colab": {
          "base_uri": "https://localhost:8080/"
        },
        "id": "LK8RTKz_wtmr",
        "outputId": "b86a22de-2e30-4177-b8be-126abdac76cc"
      },
      "execution_count": 7,
      "outputs": [
        {
          "output_type": "stream",
          "name": "stdout",
          "text": [
            "Collecting PySimpleGUI\n",
            "  Downloading PySimpleGUI-5.0.6-py3-none-any.whl.metadata (6.6 kB)\n",
            "Requirement already satisfied: rsa in /usr/local/lib/python3.10/dist-packages (from PySimpleGUI) (4.9)\n",
            "Requirement already satisfied: pyasn1>=0.1.3 in /usr/local/lib/python3.10/dist-packages (from rsa->PySimpleGUI) (0.6.0)\n",
            "Downloading PySimpleGUI-5.0.6-py3-none-any.whl (1.0 MB)\n",
            "\u001b[2K   \u001b[90m━━━━━━━━━━━━━━━━━━━━━━━━━━━━━━━━━━━━━━━━\u001b[0m \u001b[32m1.0/1.0 MB\u001b[0m \u001b[31m9.5 MB/s\u001b[0m eta \u001b[36m0:00:00\u001b[0m\n",
            "\u001b[?25hInstalling collected packages: PySimpleGUI\n",
            "Successfully installed PySimpleGUI-5.0.6\n"
          ]
        }
      ]
    },
    {
      "cell_type": "code",
      "execution_count": 16,
      "metadata": {
        "colab": {
          "base_uri": "https://localhost:8080/"
        },
        "id": "li9Q0ZbpvZLz",
        "outputId": "367b1383-ad93-4e8d-b772-2cf2607c09b8"
      },
      "outputs": [
        {
          "output_type": "stream",
          "name": "stdout",
          "text": [
            "Nettoyage terminé.\n"
          ]
        }
      ],
      "source": [
        "import tkinter as tk\n",
        "from tkinter import messagebox\n",
        "import json\n",
        "\n",
        "def cleanup():\n",
        "    \"\"\"Gère le nettoyage des ressources.\"\"\"\n",
        "    print(\"Nettoyage terminé.\")\n",
        "\n",
        "def run_quiz_app():\n",
        "    \"\"\"Instancie la classe Quiz et exécute l'application GUI.\"\"\"\n",
        "    with open('fichier_quiz.json', 'r') as file:\n",
        "        fichier_quiz = json.load(file)\n",
        "\n",
        "    questions = fichier_quiz['questions']\n",
        "    answers = [question['r'] for question in questions]\n",
        "\n",
        "    class Quiz:\n",
        "        def __init__(self, questions, answers):\n",
        "            self.questions = questions\n",
        "            self.answers = answers\n",
        "            self.current_question_index = 0\n",
        "            self.score = 0\n",
        "\n",
        "        def get_current_question(self):\n",
        "            \"\"\"Retourne la question actuelle sous forme de dictionnaire.\"\"\"\n",
        "            return self.questions[self.current_question_index]\n",
        "\n",
        "        def check_answer(self, selected_option):\n",
        "            correct_answer = self.get_current_question()['r']\n",
        "            if selected_option == correct_answer:\n",
        "                self.score += 1\n",
        "            self.current_question_index += 1\n",
        "            return self.current_question_index < len(self.questions)\n",
        "\n",
        "        def get_score(self):\n",
        "            \"\"\"Retourne le score actuel.\"\"\"\n",
        "            return self.score\n",
        "\n",
        "        def get_total_questions(self):\n",
        "            \"\"\"Retourne le nombre total de questions.\"\"\"\n",
        "            return len(self.questions)\n",
        "\n",
        "    class QuizApp:\n",
        "        def __init__(self, root, quiz):\n",
        "            self.root = root\n",
        "            self.quiz = quiz\n",
        "\n",
        "            self.question_label = tk.Label(root, text=\"\", font=(\"Arial\", 16))\n",
        "            self.question_label.pack(pady=20)\n",
        "\n",
        "            self.option_buttons = []\n",
        "            for i in range(3):\n",
        "                button = tk.Button(root, text=\"\", font=(\"Arial\", 14), width=20, command=lambda i=i: self.check_answer(self.option_buttons[i].cget(\"text\")))\n",
        "                button.pack(pady=5)\n",
        "                self.option_buttons.append(button)\n",
        "\n",
        "            self.next_button = tk.Button(root, text=\"Suivant\", font=(\"Arial\", 14), state=tk.DISABLED, command=self.next_question)\n",
        "            self.next_button.pack(side=tk.LEFT, padx=10, pady=20)\n",
        "\n",
        "            self.quit_button = tk.Button(root, text=\"Quitter\", font=(\"Arial\", 14), command=self.quit_quiz)\n",
        "            self.quit_button.pack(side=tk.RIGHT, padx=10, pady=20)\n",
        "            self.show_question()\n",
        "\n",
        "        def show_question(self):\n",
        "            \"\"\"Affiche la question actuelle et les options de réponse.\"\"\"\n",
        "            question = self.quiz.get_current_question()\n",
        "            if isinstance(question, dict):\n",
        "                self.display_question_text(question['q'])\n",
        "                self.display_options(question)\n",
        "            else:\n",
        "                messagebox.showerror(\"Erreur\", \"Les données de la question ne sont pas au format attendu.\")\n",
        "                self.root.destroy()\n",
        "\n",
        "        def display_question_text(self, question_text):\n",
        "            \"\"\"Affiche le texte de la question.\"\"\"\n",
        "            self.question_label.config(text=question_text)\n",
        "\n",
        "        def display_options(self, question):\n",
        "            \"\"\"Affiche les options de réponse pour la question actuelle.\"\"\"\n",
        "            options = [question[\"r1\"], question[\"r2\"], question[\"r3\"]]\n",
        "            for i, option in enumerate(options):\n",
        "                self.option_buttons[i].config(text=option, state=tk.NORMAL)\n",
        "            self.next_button.config(state=tk.DISABLED)\n",
        "\n",
        "        def check_answer(self, selected_option):\n",
        "            \"\"\"Vérifie la réponse sélectionnée et met à jour l'état des boutons.\"\"\"\n",
        "            has_more_questions = self.quiz.check_answer(selected_option)\n",
        "            self.next_button.config(state=tk.NORMAL if has_more_questions else tk.DISABLED)\n",
        "            for button in self.option_buttons:\n",
        "                button.config(state=tk.DISABLED)\n",
        "\n",
        "            if not has_more_questions:\n",
        "                self.quit_button.config(state=tk.NORMAL)\n",
        "\n",
        "        def next_question(self):\n",
        "            \"\"\"Affiche la question suivante ou termine le quiz si aucune question restante.\"\"\"\n",
        "            if self.quiz.current_question_index < len(self.quiz.questions):\n",
        "                self.show_question()\n",
        "            else:\n",
        "                self.quit_quiz()\n",
        "\n",
        "        def quit_quiz(self):\n",
        "            \"\"\"Affiche le score final et termine le quiz.\"\"\"\n",
        "            score = self.quiz.get_score()\n",
        "            total_questions = self.quiz.get_total_questions()\n",
        "            messagebox.showinfo(\"Résultat\", f\"Score: {score}/{total_questions}\")\n",
        "            self.root.destroy()\n",
        "\n",
        "    quiz = Quiz(questions, answers)\n",
        "\n",
        "    cleanup()\n",
        "\n",
        "run_quiz_app()\n"
      ]
    }
  ]
}